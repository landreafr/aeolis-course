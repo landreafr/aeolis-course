{
 "cells": [
  {
   "cell_type": "markdown",
   "metadata": {},
   "source": [
    "![copyright](copyright.png \"Copyright (c) 2017, Bas Hoonhout\")"
   ]
  },
  {
   "cell_type": "markdown",
   "metadata": {},
   "source": [
    "# Installation\n",
    "\n",
    "1. Install Anaconda from https://www.continuum.io/downloads (Python 3.x version).\n",
    "- Create an environment `aeolis` in the Anaconda Navigator.\n",
    "- Open the Anaconda prompt and run `activate aeolis` to activate the environment.\n",
    "- Run the following commands:\n",
    "    1. `pip install numpy`\n",
    "    - `pip install scipy`\n",
    "    - `pip install netcdf4-python`\n",
    "    - `pip install bmi-python`\n",
    "    - `pip install aeolis`\n",
    "- Restart this notebook by choosing `Kernel` and `Restart` from the menu.\n",
    "- The following cell should be executed without errors:"
   ]
  },
  {
   "cell_type": "code",
   "execution_count": 3,
   "metadata": {
    "collapsed": true
   },
   "outputs": [],
   "source": [
    "import aeolis"
   ]
  },
  {
   "cell_type": "code",
   "execution_count": null,
   "metadata": {
    "collapsed": true
   },
   "outputs": [],
   "source": []
  }
 ],
 "metadata": {
  "kernelspec": {
   "display_name": "Python 3",
   "language": "python",
   "name": "python3"
  },
  "language_info": {
   "codemirror_mode": {
    "name": "ipython",
    "version": 3
   },
   "file_extension": ".py",
   "mimetype": "text/x-python",
   "name": "python",
   "nbconvert_exporter": "python",
   "pygments_lexer": "ipython3",
   "version": "3.6.1"
  }
 },
 "nbformat": 4,
 "nbformat_minor": 2
}
