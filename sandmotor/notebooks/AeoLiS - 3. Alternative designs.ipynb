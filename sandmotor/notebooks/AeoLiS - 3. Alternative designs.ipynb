{
 "cells": [
  {
   "cell_type": "markdown",
   "metadata": {},
   "source": [
    "# 3. Alternative designs\n",
    "\n",
    "This notebook challenges you to optimize the design of the Sand Motor to maximize dune growth.\n",
    "In order to do so this notebook provides you with some Python functions to alter the model schematizations. In addition, along with this notebook a set of alternative input files is shipped that you can use to alter the initial Sand Motor model.\n",
    "Note that these model schematizations are highly optimized for speed and only have an educational purpose.\n",
    "\n",
    "Execute cells by selecting the cell and press **Shift-Enter**."
   ]
  },
  {
   "cell_type": "markdown",
   "metadata": {},
   "source": [
    "### Helper functions\n",
    "\n",
    "Execute the next cell with **Shift-Enter** to enable the helper functions.\n",
    "Adapt the functions if appropriate."
   ]
  },
  {
   "cell_type": "code",
   "execution_count": null,
   "metadata": {
    "collapsed": true
   },
   "outputs": [],
   "source": [
    "%matplotlib inline\n",
    "\n",
    "from plot_tools import *"
   ]
  },
  {
   "cell_type": "markdown",
   "metadata": {},
   "source": [
    "## 3.1 Lower construction height\n",
    "\n",
    "We've seen that low-lying beaches can have an important role in aeolian sediment supply when waves are present.\n",
    "By altering the construction height of the Sand Motor you might be able to stimulate aeolian sediment supply.\n",
    "\n",
    "The following Python function reads and writes bathymetries and allows you to lower a bathymetry above a given level with a given factor. You can use this function to explore the effect of alternative construction heights. Execute the next cell with **Shift-Enter** to enable the function."
   ]
  },
  {
   "cell_type": "code",
   "execution_count": null,
   "metadata": {
    "collapsed": true
   },
   "outputs": [],
   "source": [
    "def alter_construction_height(z_in, z_out, level=0., factor=0.5):\n",
    "    '''Reads a bathy, reduces it's height above `level` by `factor`.\n",
    "    \n",
    "    Parameters\n",
    "    ----------\n",
    "    z_in : str\n",
    "      Input bed level file\n",
    "    z_out : str\n",
    "      Output bed level file\n",
    "    level : float\n",
    "      Bed level above which bathymetry should be lowered\n",
    "    factor : float\n",
    "      Factor with which the bed level above `level` should be loaded\n",
    "      \n",
    "    '''\n",
    "    \n",
    "    z = np.loadtxt(z_in)\n",
    "    ix = z >= level\n",
    "    z[ix] = level + (z[ix] - level) * factor\n",
    "    np.savetxt(z_out, z)"
   ]
  },
  {
   "cell_type": "markdown",
   "metadata": {},
   "source": [
    "The next cell creates a bathymetry where the maximum height of the Sand Motor is lowered from 7.5 m+MSL to 3 m+MSL:"
   ]
  },
  {
   "cell_type": "code",
   "execution_count": null,
   "metadata": {
    "collapsed": true
   },
   "outputs": [],
   "source": [
    "alter_construction_height('../data/bathy/coarse/z_20110803.txt',\n",
    "                          '../data/bathy/lowered/z_20110803.txt', level=0, factor=0.4)"
   ]
  },
  {
   "cell_type": "markdown",
   "metadata": {},
   "source": [
    "## Vegetation strategies\n",
    "\n",
    "Vegetation *lowers* the local wind shear, resulting in a reduction in sediment transport capacity of the wind.\n",
    "The effect of vegetation can be incorporated in the model by *increasing* the wind shear velocity threshold.\n",
    "AeoLiS does not have a vegetation settlement and propagation module.\n",
    "However, you can use masks to locally alter the wind shear velocity threshold.\n",
    "A mask is a field with complex numbers where the real part of the complex number is multiplied by the instatnaneous velocity threshold and the complex part is added to the velocity threshold.\n",
    "For example, a mask value of 2+0.5i will first multiply the instantaneous wind shear velocity threshold with two and than add 0.5 m/s.\n",
    "\n",
    "The following Python function reads and writes threshold fields and allows you to increase the threshold above a given bed level with a given factor. You can use this function to explore the effect of vegetation strategies. Execute the next cell with **Shift-Enter** to enable the function."
   ]
  },
  {
   "cell_type": "code",
   "execution_count": null,
   "metadata": {
    "collapsed": true
   },
   "outputs": [],
   "source": [
    "def create_threshold_file(z_in, th_in, th_out, level=0., mult=1.0, add=0.0):\n",
    "    '''Creates a threshold mask for vegetation modulation based on a bathymetry\n",
    "    \n",
    "    Parameters\n",
    "    ----------\n",
    "    z_in : str\n",
    "      Input bed level file\n",
    "    th_in : str\n",
    "      Input threshold file\n",
    "    th_out : str\n",
    "      Output threshold file\n",
    "    level : float\n",
    "      Bed level above which threshold should be increased\n",
    "    mult : float\n",
    "      Multiplication mask\n",
    "    add : float\n",
    "      Addition mask\n",
    "      \n",
    "    '''\n",
    "    \n",
    "    z = np.loadtxt(z_in)\n",
    "    th = np.loadtxt(th_in, dtype=np.complex)\n",
    "    ix = z >= level\n",
    "    th[ix] += (z[ix] - level) * mult + add * 1j\n",
    "    np.savetxt(th_out, th)"
   ]
  },
  {
   "cell_type": "markdown",
   "metadata": {},
   "source": [
    "The next cell creates a threshold field where the threshold velocity at the Sand Motor above MSL is increased with a factor 2:"
   ]
  },
  {
   "cell_type": "code",
   "execution_count": null,
   "metadata": {},
   "outputs": [],
   "source": [
    "create_threshold_file('../data/bathy/coarse/z_20110803.txt',\n",
    "                      '../data/bathy/coarse/threshold.txt',\n",
    "                      '../data/bathy/coarse/threshold_vegetated.txt', level=0, mult=2., add=0.)"
   ]
  },
  {
   "cell_type": "code",
   "execution_count": null,
   "metadata": {
    "collapsed": true
   },
   "outputs": [],
   "source": []
  }
 ],
 "metadata": {
  "kernelspec": {
   "display_name": "Python 3",
   "language": "python",
   "name": "python3"
  },
  "language_info": {
   "codemirror_mode": {
    "name": "ipython",
    "version": 3
   },
   "file_extension": ".py",
   "mimetype": "text/x-python",
   "name": "python",
   "nbconvert_exporter": "python",
   "pygments_lexer": "ipython3",
   "version": "3.6.1"
  }
 },
 "nbformat": 4,
 "nbformat_minor": 2
}
