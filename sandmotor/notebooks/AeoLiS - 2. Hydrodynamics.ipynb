{
 "cells": [
  {
   "cell_type": "markdown",
   "metadata": {},
   "source": [
    "# 2. Hydrodynamics\n",
    "\n",
    "This notebook introduces hydrodynamics in AeoLiS.\n",
    "Along with this notebook a series of AeoLiS model schematizations of the Sand Motor is shipped.\n",
    "These model schematizations can be used to answer a series of questions at the end of this notebook.\n",
    "Note that these model schematizations are highly optimized for speed and only have an educational purpose.\n",
    "\n",
    "Execute cells by selecting the cell and press **Shift-Enter**."
   ]
  },
  {
   "cell_type": "markdown",
   "metadata": {},
   "source": [
    "### Helper functions\n",
    "\n",
    "Execute the next cell with **Shift-Enter** to enable the helper functions.\n",
    "Adapt the functions if appropriate."
   ]
  },
  {
   "cell_type": "code",
   "execution_count": null,
   "metadata": {
    "collapsed": true
   },
   "outputs": [],
   "source": [
    "%matplotlib inline\n",
    "\n",
    "from plot_tools import *"
   ]
  },
  {
   "cell_type": "markdown",
   "metadata": {},
   "source": [
    "## 2.1 Run AeoLiS with tides\n",
    "\n",
    "Run the model again, but now with tides enabled. Use the following command:\n",
    "\n",
    "``aeolis sandmotor_10year_sorting1_tide1_waves0.txt``\n",
    "\n",
    "And read the model output."
   ]
  },
  {
   "cell_type": "code",
   "execution_count": null,
   "metadata": {
    "collapsed": true
   },
   "outputs": [],
   "source": [
    "plot_bathymetry('../models/coarse/sandmotor_10year_sorting1_tide1_waves0.nc');\n",
    "plot_bathymetry('../models/coarse/sandmotor_10year_sorting1_tide1_waves0.nc', change=True);"
   ]
  },
  {
   "cell_type": "code",
   "execution_count": null,
   "metadata": {
    "collapsed": true
   },
   "outputs": [],
   "source": [
    "ax = plot_erosion_multi('../models/coarse/*_waves0.nc');"
   ]
  },
  {
   "cell_type": "markdown",
   "metadata": {},
   "source": [
    "## 2.2 Run AeoLiS with tides and waves\n",
    "\n",
    "Run the model again, but now with tides and waves enabled. Use the following command:\n",
    "\n",
    "``aeolis sandmotor_10year_sorting1_tide1_waves1.txt``\n",
    "\n",
    "And read the model output."
   ]
  },
  {
   "cell_type": "code",
   "execution_count": null,
   "metadata": {
    "collapsed": true
   },
   "outputs": [],
   "source": [
    "plot_bathymetry('../models/coarse/sandmotor_10year_sorting1_tide1_waves1.nc');\n",
    "plot_bathymetry('../models/coarse/sandmotor_10year_sorting1_tide1_waves1.nc', change=True);"
   ]
  },
  {
   "cell_type": "code",
   "execution_count": null,
   "metadata": {
    "collapsed": true
   },
   "outputs": [],
   "source": [
    "ax = plot_erosion_multi('../models/coarse/sandmotor_10year_*.nc');"
   ]
  },
  {
   "cell_type": "markdown",
   "metadata": {},
   "source": [
    "## 2.3 Influence of hydrodynamics on aeolian sediment transport\n",
    "\n",
    "The surfacing of non-erodible elements due to self-grading of sediment can be an important supply-limiter.\n",
    "Examining the coverage of non-erodible elements can provide information on the spatial variation in sediment availability:"
   ]
  },
  {
   "cell_type": "code",
   "execution_count": null,
   "metadata": {
    "collapsed": true
   },
   "outputs": [],
   "source": [
    "plot_coverage('../models/coarse/sandmotor_10year_sorting1_tide0_waves0.nc');\n",
    "plot_coverage('../models/coarse/sandmotor_10year_sorting1_tide1_waves0.nc');\n",
    "plot_coverage('../models/coarse/sandmotor_10year_sorting1_tide1_waves1.nc');"
   ]
  },
  {
   "cell_type": "markdown",
   "metadata": {},
   "source": [
    "## 2.4 Questions"
   ]
  },
  {
   "cell_type": "markdown",
   "metadata": {},
   "source": [
    "You just ran and analyzed two additional AeoLiS models. Please take a moment to answer the following questions regarding these runs:\n",
    "\n",
    "1. What is the effect of waves on aeolian sediment transport?\n",
    "- What model parameters affect the influence of non-erodible elemnts?\n",
    "- What is the effect of tides on aeolian sediment transport?"
   ]
  },
  {
   "cell_type": "code",
   "execution_count": null,
   "metadata": {
    "collapsed": true
   },
   "outputs": [],
   "source": []
  }
 ],
 "metadata": {
  "kernelspec": {
   "display_name": "Python 3",
   "language": "python",
   "name": "python3"
  },
  "language_info": {
   "codemirror_mode": {
    "name": "ipython",
    "version": 3
   },
   "file_extension": ".py",
   "mimetype": "text/x-python",
   "name": "python",
   "nbconvert_exporter": "python",
   "pygments_lexer": "ipython3",
   "version": "3.6.1"
  }
 },
 "nbformat": 4,
 "nbformat_minor": 2
}
